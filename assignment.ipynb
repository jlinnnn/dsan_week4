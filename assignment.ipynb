{
 "cells": [
  {
   "attachments": {},
   "cell_type": "markdown",
   "metadata": {},
   "source": [
    "# Assignment 4\n",
    "\n",
    "### Instructions:\n",
    "\n",
    "Assignment 4 will cover the NumPy and Pandas packages. The overall goal of this assignment is to ensure that you are comfortable with the NumPy and Pandas packages. Follow the steps below to ensure that you receive a passing grade:\n",
    "\n",
    "    - Complete the following tasks within this notebook\n",
    "    - When finished, convert this notebook to an HTML/PDF file\n",
    "    - Place the following items into a zip folder:\n",
    "        - assignment.HTML or assignment.PDF\n",
    "        - assignment.ipynb\n",
    "        - assignment.csv\n",
    "    - Name this folder using the naming convention: FIRSTNAME_LASTNAME_ASSIGNMENT4.zip\n",
    "        - For example, if your name was Jane Doe, then the zipped folder should be called JANE_DOE_ASSIGNMENT4.zip\n",
    " "
   ]
  },
  {
   "cell_type": "code",
   "execution_count": 18,
   "metadata": {},
   "outputs": [],
   "source": [
    "# import packages\n",
    "import numpy as np\n",
    "import pandas as pd"
   ]
  },
  {
   "attachments": {},
   "cell_type": "markdown",
   "metadata": {},
   "source": [
    "## 1. Manipulate an Array\n",
    "\n",
    "Without using the `np.array()` function, manipulate (in any way you choose) a $2 \\times 6$ array of zeros, to match the final $4 \\times 3$ array shown below.\n",
    "\n",
    "$$start \\rightarrow \\begin{bmatrix}\n",
    "0 & 0 & 0 & 0 & 0 & 0\\\\\n",
    "0 & 0 & 0 & 0 & 0 & 0\n",
    "\\end{bmatrix} \\rightarrow \\text{manipulate} \\rightarrow\n",
    "\\begin{bmatrix}\n",
    "12 & 11 & 10\\\\\n",
    "9 & 8 & 7\\\\\n",
    "10 & 10 & 10\\\\\n",
    "3 & 2 & 1\\\\\n",
    "\\end{bmatrix}$$"
   ]
  },
  {
   "cell_type": "code",
   "execution_count": 19,
   "metadata": {},
   "outputs": [
    {
     "name": "stdout",
     "output_type": "stream",
     "text": [
      "[[12 11 10]\n",
      " [ 9  8  7]\n",
      " [10 10 10]\n",
      " [ 3  2  1]]\n"
     ]
    }
   ],
   "source": [
    "target = np.zeros(shape = (2,6))\n",
    "\n",
    "#Initalizing the values that I want to add into my 4x3 matrix\n",
    "values = [12, 11, 10, 9, 8, 7, 10, 10, 10, 3, 2, 1]\n",
    "target = np.reshape(values, (4,3)).astype(dtype= 'i')\n",
    "\n",
    "print(target)"
   ]
  },
  {
   "attachments": {},
   "cell_type": "markdown",
   "metadata": {},
   "source": [
    "## 2. Create a DataFrame and Clean\n",
    "\n",
    "**A. Create a `DataFrame` using the `pd.DataFrame()` function that is identical to the table below. Remember to use `np.nan` to signify missing values.**\n",
    "\n",
    "| name | gender | weight_kg | height_cm \n",
    "| --- | --- | --- | --- |\n",
    "| Jacinda | F | 55.51 | **NaN**\n",
    "| Oralla | M | 60.4 |162.79\n",
    "| Aeriell | F | **NaN** | 162.32\n",
    "| Portie | X | 73.94 | 160.33\n",
    "| Ferdinanda | F | 60.62 | 146.68\n"
   ]
  },
  {
   "cell_type": "code",
   "execution_count": 20,
   "metadata": {},
   "outputs": [
    {
     "name": "stdout",
     "output_type": "stream",
     "text": [
      "         name gender weight_kg height_cm\n",
      "0     Jacinda      F     55.51       NaN\n",
      "1      Oralla      M      60.4    162.79\n",
      "2     Aeriell      F       NaN    162.32\n",
      "3      Portie      X     73.94    160.33\n",
      "4  Ferdinanda      F     60.62    146.68\n"
     ]
    }
   ],
   "source": [
    "df = pd.DataFrame({\n",
    "    'name': ['Jacinda', 'Oralla', 'Aeriell', 'Portie', 'Ferdinanda'],\n",
    "    'gender': ['F', 'M', 'F', 'X', 'F'],\n",
    "    'weight_kg': ['55.51', '60.4', np.nan, '73.94', '60.62'],\n",
    "    'height_cm': [np.nan, '162.79', '162.32', '160.33', '146.68']\n",
    "})\n",
    "\n",
    "print(df)"
   ]
  },
  {
   "attachments": {},
   "cell_type": "markdown",
   "metadata": {},
   "source": [
    "**B. Replace the missing value in the `weight_kg` column with the mean weight across the `weight_kg` column**"
   ]
  },
  {
   "cell_type": "code",
   "execution_count": 21,
   "metadata": {},
   "outputs": [
    {
     "name": "stdout",
     "output_type": "stream",
     "text": [
      "0    55.51\n",
      "1     60.4\n",
      "2    62.62\n",
      "3    73.94\n",
      "4    60.62\n",
      "Name: weight_kg, dtype: object\n"
     ]
    }
   ],
   "source": [
    "#splitting df down into 2 sub-series\n",
    "first = df['weight_kg'].iloc[0:2]\n",
    "end = df['weight_kg'].iloc[3:5]\n",
    "\n",
    "#changing the values into a numeric-type\n",
    "first_num = pd.to_numeric(first)\n",
    "end_num = pd.to_numeric(end)\n",
    "\n",
    "#mathematical calculations\n",
    "first_sum = first_num.sum()\n",
    "end_sum = end_num.sum()\n",
    "final_sum = first_sum + end_sum\n",
    "mean = (final_sum / 4).round(2)\n",
    "\n",
    "#filling \"weights_kg\" column's missing value with the mean\n",
    "new_weight = df['weight_kg'].fillna(mean)\n",
    "\n",
    "print(new_weight)"
   ]
  },
  {
   "attachments": {},
   "cell_type": "markdown",
   "metadata": {},
   "source": [
    "**C. Replace the missing value in the `height_cm` column with the maximum of the heights across the `height_cm` column**"
   ]
  },
  {
   "cell_type": "code",
   "execution_count": 22,
   "metadata": {},
   "outputs": [
    {
     "name": "stdout",
     "output_type": "stream",
     "text": [
      "0    162.79\n",
      "1    162.79\n",
      "2    162.32\n",
      "3    160.33\n",
      "4    146.68\n",
      "Name: height_cm, dtype: object\n"
     ]
    }
   ],
   "source": [
    "#Preparing the necessary value positions\n",
    "heightData = df['height_cm'].iloc[1:5]\n",
    "\n",
    "#Deduces the maximum within the \"height_cm\" column\n",
    "max = heightData.max()\n",
    "\n",
    "#Filling in the NaN with max\n",
    "newHeight = df['height_cm'].fillna(max)\n",
    "\n",
    "print(newHeight)"
   ]
  },
  {
   "attachments": {},
   "cell_type": "markdown",
   "metadata": {},
   "source": [
    "**D. Replace the `X` value in the `gender` column with the mode of the `gender` column**"
   ]
  },
  {
   "cell_type": "code",
   "execution_count": 23,
   "metadata": {},
   "outputs": [
    {
     "name": "stdout",
     "output_type": "stream",
     "text": [
      "0    F\n",
      "1    M\n",
      "2    F\n",
      "3    F\n",
      "4    F\n",
      "Name: gender, dtype: object\n"
     ]
    }
   ],
   "source": [
    "#Searching for the mode in the series \"gender\"\n",
    "popGender = df['gender'].mode()\n",
    "\n",
    "#replacing \"X\" to \"F\"\n",
    "newGender = df['gender'].replace(\"X\", \"F\")\n",
    "\n",
    "print(newGender)"
   ]
  },
  {
   "attachments": {},
   "cell_type": "markdown",
   "metadata": {},
   "source": [
    "**E. Print the cleaned DataFrame**"
   ]
  },
  {
   "cell_type": "code",
   "execution_count": 24,
   "metadata": {},
   "outputs": [
    {
     "name": "stdout",
     "output_type": "stream",
     "text": [
      "         name gender weight_kg height_cm\n",
      "0     Jacinda      F     55.51    162.79\n",
      "1      Oralla      M      60.4    162.79\n",
      "2     Aeriell      F     62.62    162.32\n",
      "3      Portie      F     73.94    160.33\n",
      "4  Ferdinanda      F     60.62    146.68\n"
     ]
    }
   ],
   "source": [
    "df = pd.DataFrame({\n",
    "    'name': ['Jacinda', 'Oralla', 'Aeriell', 'Portie', 'Ferdinanda'],\n",
    "    'gender': ['F', 'M', 'F', 'F', 'F'],\n",
    "    'weight_kg': ['55.51', '60.4', mean, '73.94', '60.62'],\n",
    "    'height_cm': [max, '162.79', '162.32', '160.33', '146.68']\n",
    "})\n",
    "\n",
    "print(df)"
   ]
  },
  {
   "attachments": {},
   "cell_type": "markdown",
   "metadata": {},
   "source": [
    "## 3. DataFrame Manipulation\n",
    "\n",
    "Let's load in the `exercise` dataset from the `seaborn` package."
   ]
  },
  {
   "cell_type": "code",
   "execution_count": 25,
   "metadata": {
    "scrolled": true
   },
   "outputs": [
    {
     "name": "stdout",
     "output_type": "stream",
     "text": [
      "    Unnamed: 0  id     diet  pulse    time     kind\n",
      "0            0   1  low fat     85   1 min     rest\n",
      "1            1   1  low fat     85  15 min     rest\n",
      "2            2   1  low fat     88  30 min     rest\n",
      "3            3   2  low fat     90   1 min     rest\n",
      "4            4   2  low fat     92  15 min     rest\n",
      "..         ...  ..      ...    ...     ...      ...\n",
      "85          85  29   no fat    135  15 min  running\n",
      "86          86  29   no fat    130  30 min  running\n",
      "87          87  30   no fat     99   1 min  running\n",
      "88          88  30   no fat    111  15 min  running\n",
      "89          89  30   no fat    150  30 min  running\n",
      "\n",
      "[90 rows x 6 columns]\n"
     ]
    }
   ],
   "source": [
    "import seaborn as sns\n",
    "exercise = sns.load_dataset(\"exercise\") # this requries an internet connection\n",
    "print(exercise)"
   ]
  },
  {
   "attachments": {},
   "cell_type": "markdown",
   "metadata": {},
   "source": [
    "### Perform the following tasks on the DataFrame:"
   ]
  },
  {
   "attachments": {},
   "cell_type": "markdown",
   "metadata": {},
   "source": [
    "**A. Remove the unnamed column from the DataFrame**"
   ]
  },
  {
   "cell_type": "code",
   "execution_count": 26,
   "metadata": {},
   "outputs": [
    {
     "name": "stdout",
     "output_type": "stream",
     "text": [
      "    id     diet  pulse    time     kind\n",
      "0    1  low fat     85   1 min     rest\n",
      "1    1  low fat     85  15 min     rest\n",
      "2    1  low fat     88  30 min     rest\n",
      "3    2  low fat     90   1 min     rest\n",
      "4    2  low fat     92  15 min     rest\n",
      "..  ..      ...    ...     ...      ...\n",
      "85  29   no fat    135  15 min  running\n",
      "86  29   no fat    130  30 min  running\n",
      "87  30   no fat     99   1 min  running\n",
      "88  30   no fat    111  15 min  running\n",
      "89  30   no fat    150  30 min  running\n",
      "\n",
      "[90 rows x 5 columns]\n"
     ]
    }
   ],
   "source": [
    "cleanExercise = exercise.drop(columns=[\"Unnamed: 0\"])\n",
    "\n",
    "print(cleanExercise)"
   ]
  },
  {
   "attachments": {},
   "cell_type": "markdown",
   "metadata": {},
   "source": [
    "**B. The `time` column is a string type. Use the `.str.split()` function to extract the numbers out of this column. Save these numbers as a new column called `minutes`. What is the data type of this new column? Should it be transformed to a different data type? If so, perform the transformation.**\n"
   ]
  },
  {
   "cell_type": "code",
   "execution_count": 35,
   "metadata": {},
   "outputs": [
    {
     "name": "stdout",
     "output_type": "stream",
     "text": [
      "    Unnamed: 0  id     diet  pulse    time     kind  minutes\n",
      "0            0   1  low fat     85   1 min     rest        1\n",
      "1            1   1  low fat     85  15 min     rest       15\n",
      "2            2   1  low fat     88  30 min     rest       30\n",
      "3            3   2  low fat     90   1 min     rest        1\n",
      "4            4   2  low fat     92  15 min     rest       15\n",
      "..         ...  ..      ...    ...     ...      ...      ...\n",
      "85          85  29   no fat    135  15 min  running       15\n",
      "86          86  29   no fat    130  30 min  running       30\n",
      "87          87  30   no fat     99   1 min  running        1\n",
      "88          88  30   no fat    111  15 min  running       15\n",
      "89          89  30   no fat    150  30 min  running       30\n",
      "\n",
      "[90 rows x 7 columns]\n"
     ]
    }
   ],
   "source": [
    "cleanExercise.time.str.split(\" \")\n",
    "minutes = cleanExercise.time.str.split(\" \").str[0]\n",
    "#new_minutes = minutes.astype(int)\n",
    "\n",
    "exercise[\"minutes\"] = minutes.astype(int)\n",
    "\n",
    "print(exercise)\n"
   ]
  },
  {
   "cell_type": "markdown",
   "metadata": {},
   "source": [
    "*The data type of minutes was \"object\", which doesn't make sense since we wanted minutes to be considered as \"int\"*"
   ]
  },
  {
   "attachments": {},
   "cell_type": "markdown",
   "metadata": {},
   "source": [
    "**C. Since we have the `minutes` column, drop the original `time` column from the DataFrame**"
   ]
  },
  {
   "cell_type": "code",
   "execution_count": 37,
   "metadata": {},
   "outputs": [
    {
     "name": "stdout",
     "output_type": "stream",
     "text": [
      "    Unnamed: 0  id     diet  pulse     kind  minutes\n",
      "0            0   1  low fat     85     rest        1\n",
      "1            1   1  low fat     85     rest       15\n",
      "2            2   1  low fat     88     rest       30\n",
      "3            3   2  low fat     90     rest        1\n",
      "4            4   2  low fat     92     rest       15\n",
      "..         ...  ..      ...    ...      ...      ...\n",
      "85          85  29   no fat    135  running       15\n",
      "86          86  29   no fat    130  running       30\n",
      "87          87  30   no fat     99  running        1\n",
      "88          88  30   no fat    111  running       15\n",
      "89          89  30   no fat    150  running       30\n",
      "\n",
      "[90 rows x 6 columns]\n"
     ]
    }
   ],
   "source": [
    "noTime = exercise.drop(columns=[\"time\"])\n",
    "\n",
    "print(noTime)"
   ]
  },
  {
   "attachments": {},
   "cell_type": "markdown",
   "metadata": {},
   "source": [
    "**D. Subset the DataFrame to only contain entries where the `minutes` column is greater than `10`. Use the `.min()` function to determine what is the minimum pulse is for activities that lasted more than `10` minutes**"
   ]
  },
  {
   "cell_type": "code",
   "execution_count": 42,
   "metadata": {},
   "outputs": [
    {
     "name": "stdout",
     "output_type": "stream",
     "text": [
      "    Unnamed: 0  id     diet  pulse     kind  minutes\n",
      "1            1   1  low fat     85     rest       15\n",
      "2            2   1  low fat     88     rest       30\n",
      "4            4   2  low fat     92     rest       15\n",
      "5            5   2  low fat     93     rest       30\n",
      "7            7   3  low fat     97     rest       15\n",
      "8            8   3  low fat     94     rest       30\n",
      "10          10   4  low fat     82     rest       15\n",
      "11          11   4  low fat     83     rest       30\n",
      "13          13   5  low fat     92     rest       15\n",
      "14          14   5  low fat     91     rest       30\n",
      "16          16   6   no fat     83     rest       15\n",
      "17          17   6   no fat     84     rest       30\n",
      "19          19   7   no fat     88     rest       15\n",
      "20          20   7   no fat     90     rest       30\n",
      "22          22   8   no fat     94     rest       15\n",
      "23          23   8   no fat     95     rest       30\n",
      "25          25   9   no fat     99     rest       15\n",
      "26          26   9   no fat     96     rest       30\n",
      "28          28  10   no fat     97     rest       15\n",
      "29          29  10   no fat    100     rest       30\n",
      "31          31  11  low fat     86  walking       15\n",
      "32          32  11  low fat     84  walking       30\n",
      "34          34  12  low fat    103  walking       15\n",
      "35          35  12  low fat    104  walking       30\n",
      "37          37  13  low fat     92  walking       15\n",
      "38          38  13  low fat     93  walking       30\n",
      "40          40  14  low fat     96  walking       15\n",
      "41          41  14  low fat    100  walking       30\n",
      "43          43  15  low fat     96  walking       15\n",
      "44          44  15  low fat     95  walking       30\n",
      "46          46  16   no fat     86  walking       15\n",
      "47          47  16   no fat     89  walking       30\n",
      "49          49  17   no fat    109  walking       15\n",
      "50          50  17   no fat     90  walking       30\n",
      "52          52  18   no fat     96  walking       15\n",
      "53          53  18   no fat    101  walking       30\n",
      "55          55  19   no fat     98  walking       15\n",
      "56          56  19   no fat    100  walking       30\n",
      "58          58  20   no fat    104  walking       15\n",
      "59          59  20   no fat    103  walking       30\n",
      "61          61  21  low fat     98  running       15\n",
      "62          62  21  low fat    110  running       30\n",
      "64          64  22  low fat    104  running       15\n",
      "65          65  22  low fat    112  running       30\n",
      "67          67  23  low fat    105  running       15\n",
      "68          68  23  low fat     99  running       30\n",
      "70          70  24  low fat    132  running       15\n",
      "71          71  24  low fat    120  running       30\n",
      "73          73  25  low fat    110  running       15\n",
      "74          74  25  low fat    116  running       30\n",
      "76          76  26   no fat    126  running       15\n",
      "77          77  26   no fat    143  running       30\n",
      "79          79  27   no fat    126  running       15\n",
      "80          80  27   no fat    140  running       30\n",
      "82          82  28   no fat    124  running       15\n",
      "83          83  28   no fat    140  running       30\n",
      "85          85  29   no fat    135  running       15\n",
      "86          86  29   no fat    130  running       30\n",
      "88          88  30   no fat    111  running       15\n",
      "89          89  30   no fat    150  running       30\n"
     ]
    }
   ],
   "source": [
    "subset = noTime[noTime['minutes'] > 10]\n",
    "\n",
    "print(subset)"
   ]
  },
  {
   "attachments": {},
   "cell_type": "markdown",
   "metadata": {},
   "source": [
    "**E. Use the `groupby()` function to group the `kind` column. Then aggregate to find the mean pulse for each `kind` of activity in the DataFrame**"
   ]
  },
  {
   "cell_type": "code",
   "execution_count": 52,
   "metadata": {
    "scrolled": true
   },
   "outputs": [
    {
     "name": "stdout",
     "output_type": "stream",
     "text": [
      "kind\n",
      "rest        90.833333\n",
      "walking     95.200000\n",
      "running    113.066667\n",
      "Name: pulse, dtype: float64\n"
     ]
    },
    {
     "name": "stderr",
     "output_type": "stream",
     "text": [
      "/var/folders/hg/fm2s6jnd0dlblv2nvz6t8ycr0000gn/T/ipykernel_12839/2769815814.py:1: FutureWarning: The default of observed=False is deprecated and will be changed to True in a future version of pandas. Pass observed=False to retain current behavior or observed=True to adopt the future default and silence this warning.\n",
      "  grouped = noTime.groupby('kind')\n"
     ]
    }
   ],
   "source": [
    "grouped = noTime.groupby('kind')\n",
    "mean_pulse = grouped['pulse'].mean()\n",
    "\n",
    "print(mean_pulse)"
   ]
  },
  {
   "attachments": {},
   "cell_type": "markdown",
   "metadata": {},
   "source": [
    "**F. Save the DataFrame as a CSV file named `assignment.csv`. Make sure that the `index` argument is set to `False`**"
   ]
  },
  {
   "cell_type": "code",
   "execution_count": 53,
   "metadata": {},
   "outputs": [],
   "source": [
    "noTime.to_csv(\"assignment.csv\", index = False)"
   ]
  }
 ],
 "metadata": {
  "kernelspec": {
   "display_name": "Python 3",
   "language": "python",
   "name": "python3"
  },
  "language_info": {
   "codemirror_mode": {
    "name": "ipython",
    "version": 3
   },
   "file_extension": ".py",
   "mimetype": "text/x-python",
   "name": "python",
   "nbconvert_exporter": "python",
   "pygments_lexer": "ipython3",
   "version": "3.11.7"
  }
 },
 "nbformat": 4,
 "nbformat_minor": 4
}
